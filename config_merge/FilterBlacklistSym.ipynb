{
 "cells": [
  {
   "cell_type": "code",
   "execution_count": 1,
   "id": "massive-serbia",
   "metadata": {},
   "outputs": [],
   "source": [
    "blacksyms = open('blacklist_syms').read().splitlines()"
   ]
  },
  {
   "cell_type": "code",
   "execution_count": 2,
   "id": "peaceful-mentor",
   "metadata": {},
   "outputs": [
    {
     "data": {
      "text/plain": [
       "10238"
      ]
     },
     "execution_count": 2,
     "metadata": {},
     "output_type": "execute_result"
    }
   ],
   "source": [
    "len(blacksyms)"
   ]
  },
  {
   "cell_type": "code",
   "execution_count": 3,
   "id": "prerequisite-indication",
   "metadata": {},
   "outputs": [
    {
     "data": {
      "text/plain": [
       "11349"
      ]
     },
     "execution_count": 3,
     "metadata": {},
     "output_type": "execute_result"
    }
   ],
   "source": [
    "ubuntu_config_lines = open('ubuntu_config').read().splitlines()\n",
    "len(ubuntu_config_lines)"
   ]
  },
  {
   "cell_type": "code",
   "execution_count": 4,
   "id": "informal-heart",
   "metadata": {},
   "outputs": [
    {
     "name": "stdout",
     "output_type": "stream",
     "text": [
      "5917\n"
     ]
    }
   ],
   "source": [
    "import re\n",
    "def getConfig(l):\n",
    "    configStr = \\\n",
    "        re.findall(r'^CONFIG_(.*?)=.*?$', l) \\\n",
    "        + re.findall(r'^# CONFIG_(.*?) is not set$', l)\n",
    "#     print(configStr)\n",
    "    if len(configStr) == 0:\n",
    "        return None\n",
    "    return configStr[0]\n",
    "\n",
    "# for l in ubuntu_config_lines:\n",
    "#     print(getConfig(l))\n",
    "\n",
    "def processUbuntuConfig(l):\n",
    "    # replace =m to =y\n",
    "    l = l.replace('=m', '=y')\n",
    "    return l\n",
    "\n",
    "ubuntu_config_lines = [processUbuntuConfig(c) for c in ubuntu_config_lines if getConfig(c) not in blacksyms]\n",
    "print(len(ubuntu_config_lines))"
   ]
  },
  {
   "cell_type": "code",
   "execution_count": 5,
   "id": "gross-township",
   "metadata": {},
   "outputs": [],
   "source": [
    "with open('ubuntu_config_picked', 'w') as f:\n",
    "    f.write('\\n'.join(ubuntu_config_lines))"
   ]
  },
  {
   "cell_type": "code",
   "execution_count": null,
   "id": "large-warehouse",
   "metadata": {},
   "outputs": [],
   "source": []
  }
 ],
 "metadata": {
  "kernelspec": {
   "display_name": "Python 3.8.6 (Pyenv)",
   "language": "python",
   "name": "pyenv-py3.8.6"
  },
  "language_info": {
   "codemirror_mode": {
    "name": "ipython",
    "version": 3
   },
   "file_extension": ".py",
   "mimetype": "text/x-python",
   "name": "python",
   "nbconvert_exporter": "python",
   "pygments_lexer": "ipython3",
   "version": "3.8.6"
  }
 },
 "nbformat": 4,
 "nbformat_minor": 5
}
