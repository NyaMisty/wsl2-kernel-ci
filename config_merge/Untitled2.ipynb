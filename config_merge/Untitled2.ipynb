{
 "cells": [
  {
   "cell_type": "code",
   "execution_count": 2,
   "id": "funny-projector",
   "metadata": {},
   "outputs": [],
   "source": [
    "import re\n",
    "def getConfig(l):\n",
    "    configStr = \\\n",
    "        re.findall(r'^CONFIG_(.*?)=.*?$', l) \\\n",
    "        + re.findall(r'^# CONFIG_(.*?) is not set$', l)\n",
    "#     print(configStr)\n",
    "    if len(configStr) == 0:\n",
    "        return None\n",
    "    return configStr[0]\n"
   ]
  },
  {
   "cell_type": "code",
   "execution_count": 6,
   "id": "sized-stanley",
   "metadata": {},
   "outputs": [],
   "source": [
    "ubuntu_config_map = { getConfig(l): l for l in open('ubuntu_config_picked').read().splitlines() }\n",
    "ubuntu_config_map.pop(None)\n",
    "for k in list(ubuntu_config_map):\n",
    "    if 'is not set' in ubuntu_config_map[k]:\n",
    "        del ubuntu_config_map[k]"
   ]
  },
  {
   "cell_type": "code",
   "execution_count": 7,
   "id": "future-painting",
   "metadata": {},
   "outputs": [],
   "source": [
    "microsoft_config_lines = open('microsoft_config').read().splitlines()"
   ]
  },
  {
   "cell_type": "code",
   "execution_count": null,
   "id": "assumed-omega",
   "metadata": {},
   "outputs": [],
   "source": [
    "for l in microsoft_config_lines:\n",
    "    conf = getConfig(l)\n",
    "    if not conf:\n",
    "        continue\n",
    "    ubuntu_conf = ubuntu_config_map.pop(conf)\n",
    "    if not ubuntu_conf:\n",
    "        continue\n",
    "    \n",
    "    \n",
    "for k in ubuntu_config_map:\n",
    "    microsoft_config"
   ]
  }
 ],
 "metadata": {
  "kernelspec": {
   "display_name": "Python 3.8.6 (Pyenv)",
   "language": "python",
   "name": "pyenv-py3.8.6"
  },
  "language_info": {
   "codemirror_mode": {
    "name": "ipython",
    "version": 3
   },
   "file_extension": ".py",
   "mimetype": "text/x-python",
   "name": "python",
   "nbconvert_exporter": "python",
   "pygments_lexer": "ipython3",
   "version": "3.8.6"
  }
 },
 "nbformat": 4,
 "nbformat_minor": 5
}
